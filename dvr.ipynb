{
  "nbformat": 4,
  "nbformat_minor": 0,
  "metadata": {
    "colab": {
      "name": "dvr.ipynb",
      "provenance": [],
      "collapsed_sections": []
    },
    "kernelspec": {
      "name": "python3",
      "display_name": "Python 3"
    },
    "language_info": {
      "name": "python"
    }
  },
  "cells": [
    {
      "cell_type": "code",
      "execution_count": null,
      "metadata": {
        "id": "bx1IlI9Ji3yE"
      },
      "outputs": [],
      "source": [
        "%%capture\n",
        "!git clone --recursive https://github.com/autonomousvision/differentiable_volumetric_rendering\n",
        "!mv differentiable_volumetric_rendering/* ."
      ]
    },
    {
      "cell_type": "code",
      "source": [
        "%%capture\n",
        "!python setup.py build_ext --inplace"
      ],
      "metadata": {
        "id": "FGFZCi9EjnSL"
      },
      "execution_count": null,
      "outputs": []
    },
    {
      "cell_type": "code",
      "source": [
        "%%capture\n",
        "!pip install trimesh"
      ],
      "metadata": {
        "id": "r2AjUGTOkVYn"
      },
      "execution_count": null,
      "outputs": []
    },
    {
      "cell_type": "code",
      "source": [
        "!python generate.py configs/demo/demo_combined.yaml"
      ],
      "metadata": {
        "colab": {
          "base_uri": "https://localhost:8080/"
        },
        "id": "mgmrplqOkM2a",
        "outputId": "e2f5cfb5-8713-4fb5-c7e6-3009d1398907"
      },
      "execution_count": null,
      "outputs": [
        {
          "output_type": "stream",
          "name": "stdout",
          "text": [
            "Downloading: \"https://download.pytorch.org/models/resnet18-f37072fd.pth\" to /root/.cache/torch/hub/checkpoints/resnet18-f37072fd.pth\n",
            "100% 44.7M/44.7M [00:00<00:00, 176MB/s]\n",
            "https://s3.eu-central-1.amazonaws.com/avg-projects/differentiable_volumetric_rendering/models/single_view_reconstruction/multi-view-supervision/ours_combined-af2bce07.pt\n",
            "=> Loading checkpoint from url...\n",
            "Downloading: \"https://s3.eu-central-1.amazonaws.com/avg-projects/differentiable_volumetric_rendering/models/single_view_reconstruction/multi-view-supervision/ours_combined-af2bce07.pt\" to /root/.cache/torch/hub/checkpoints/ours_combined-af2bce07.pt\n",
            "100% 167M/167M [00:07<00:00, 23.1MB/s]\n",
            "100% 7/7 [32:38<00:00, 279.72s/it]\n",
            "Timings [s]:\n",
            "            class_id  ...  time (color)\n",
            "class_name            ...              \n",
            "na               0.0  ...      14.26556\n",
            "mean             0.0  ...      14.26556\n",
            "\n",
            "[2 rows x 6 columns]\n"
          ]
        }
      ]
    },
    {
      "cell_type": "code",
      "source": [
        ""
      ],
      "metadata": {
        "id": "HbEworqKmjlg"
      },
      "execution_count": null,
      "outputs": []
    }
  ]
}